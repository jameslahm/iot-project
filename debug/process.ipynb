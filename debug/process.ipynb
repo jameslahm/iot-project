{
 "metadata": {
  "language_info": {
   "codemirror_mode": {
    "name": "ipython",
    "version": 3
   },
   "file_extension": ".py",
   "mimetype": "text/x-python",
   "name": "python",
   "nbconvert_exporter": "python",
   "pygments_lexer": "ipython3",
   "version": 3
  },
  "orig_nbformat": 2
 },
 "nbformat": 4,
 "nbformat_minor": 2,
 "cells": [
  {
   "cell_type": "code",
   "execution_count": null,
   "metadata": {},
   "outputs": [],
   "source": [
    "#/bin/env python\n",
    "# -*- coding: utf-8 -*-\n",
    "\n",
    "from matplotlib import pyplot as plt\n",
    "from scipy import signal,fft\n",
    "from scipy.io import wavfile\n",
    "import numpy as np\n",
    "import sys\n",
    "\n",
    "def decode_signal(data):\n",
    "    j = 0;\n",
    "    for i in range(0,int(len(data)/441)):\n",
    "        d = data[i*441:(i+1)*441]\n",
    "        res=fft.fft(d)\n",
    "        # print(np.argmax(np.abs(res)))\n",
    "        x = np.argmax(np.abs(res))\n",
    "        if x==100:\n",
    "            print(\"0\",end=\"\")\n",
    "            j+=1\n",
    "            if j % 8==0 and j!=0:\n",
    "                print(\"\")\n",
    "        if x==60:\n",
    "            print(\"1\",end=\"\")\n",
    "            j+=1\n",
    "            if j % 8==0 and j!=0:\n",
    "                print(\"\")\n",
    "\n",
    "filename = \"example.wav\"\n",
    "if len(sys.argv)>=2:\n",
    "    filename = sys.argv[1]\n",
    "sampling_rate,data=wavfile.read(filename)\n",
    "print(\"Sampling_rate: \",sampling_rate)\n",
    "data=data/np.max(data)\n",
    "data = data[441*200:441*500]\n",
    "\n",
    "decode_signal(data)\n",
    "\n",
    "f, t, Zxx = signal.stft(data, sampling_rate,nperseg=441,noverlap=0)\n",
    "fig=plt.figure(figsize=(8,4))\n",
    "# print(t)\n",
    "plt.pcolormesh(t, f, np.abs(Zxx),shading='flat')\n",
    "plt.title('STFT Magnitude')\n",
    "plt.ylabel('Frequency [Hz]')\n",
    "plt.xlabel('Time [sec]')\n",
    "# plt.ylim((9000,11000))\n",
    "plt.xlim((0.3,0.6))\n"
   ]
  }
 ]
}